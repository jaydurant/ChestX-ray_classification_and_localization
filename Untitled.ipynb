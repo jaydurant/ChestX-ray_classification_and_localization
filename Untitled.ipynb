{
 "cells": [
  {
   "cell_type": "code",
   "execution_count": 4,
   "metadata": {},
   "outputs": [
    {
     "name": "stdout",
     "output_type": "stream",
     "text": [
      "<class 'models.resnet50.Resnet50'>\n"
     ]
    }
   ],
   "source": [
    "from models.resnet50 import Resnet50\n",
    "from torch_lr_finder import LRFinder\n",
    "from torch import optim\n",
    "import torch.nn as nn\n",
    "\n",
    "\n",
    "model = Resnet50()\n",
    "criterion = nn.BCEWithLogitLoss()\n",
    "optimizer = optim.Adam(model.parameters(), lr=1e-7)\n",
    "lr_finder = LRFinder(model, optimizer, criterion)\n",
    "lr_finder.range_test(trainloader, end_lr=100, num_iter=100)\n",
    "lr_finder.plot()\n",
    "lr_finder.reset()\n"
   ]
  }
 ],
 "metadata": {
  "kernelspec": {
   "display_name": "Python 3 (ipykernel)",
   "language": "python",
   "name": "python3"
  },
  "language_info": {
   "codemirror_mode": {
    "name": "ipython",
    "version": 3
   },
   "file_extension": ".py",
   "mimetype": "text/x-python",
   "name": "python",
   "nbconvert_exporter": "python",
   "pygments_lexer": "ipython3",
   "version": "3.7.8"
  }
 },
 "nbformat": 4,
 "nbformat_minor": 2
}
